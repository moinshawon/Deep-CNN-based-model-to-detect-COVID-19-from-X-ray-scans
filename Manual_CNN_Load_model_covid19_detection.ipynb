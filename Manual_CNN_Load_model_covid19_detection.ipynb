{
  "nbformat": 4,
  "nbformat_minor": 0,
  "metadata": {
    "colab": {
      "name": "Manual_CNN_Load_model_covid19_detection.ipynb",
      "provenance": [],
      "collapsed_sections": []
    },
    "kernelspec": {
      "name": "python3",
      "display_name": "Python 3"
    },
    "accelerator": "GPU"
  },
  "cells": [
    {
      "cell_type": "code",
      "metadata": {
        "colab": {
          "base_uri": "https://localhost:8080/"
        },
        "id": "0-vcChRCR94u",
        "outputId": "25855094-17da-4838-dd96-43f1acd06d53"
      },
      "source": [
        "from google.colab import drive\n",
        "drive.mount('/content/drive')"
      ],
      "execution_count": null,
      "outputs": [
        {
          "output_type": "stream",
          "text": [
            "Drive already mounted at /content/drive; to attempt to forcibly remount, call drive.mount(\"/content/drive\", force_remount=True).\n"
          ],
          "name": "stdout"
        }
      ]
    },
    {
      "cell_type": "code",
      "metadata": {
        "id": "AstjDug6ljjT"
      },
      "source": [
        "#/content/gdrive/MyDrive/BRAC/Thesis/Thesis(BRACU)/Pre-Thesis 2/Google Colab/_ds"
      ],
      "execution_count": null,
      "outputs": []
    },
    {
      "cell_type": "code",
      "metadata": {
        "id": "b2il1Qt7ljum"
      },
      "source": [
        "# import numpy as np\n",
        "# import keras\n",
        "# import matplotlib.pyplot as plt\n",
        "# from sklearn.model_selection import train_test_split\n",
        "# from sklearn.metrics import confusion_matrix\n",
        "# from keras.models import Sequential\n",
        "# from keras.layers import Dense, Dropout, Flatten, Conv2D, MaxPool2D,GlobalMaxPooling2D\n",
        "# from keras.optimizers import RMSprop\n",
        "# from scipy.io import loadmat\n",
        "# from keras.callbacks import ReduceLROnPlateau\n",
        "# from sklearn.preprocessing import LabelBinarizer\n",
        "# from sklearn.metrics import classification_report,confusion_matrix\n",
        "# import matplotlib.pyplot as plt"
      ],
      "execution_count": null,
      "outputs": []
    },
    {
      "cell_type": "code",
      "metadata": {
        "id": "2uyUhKUXljxR"
      },
      "source": [
        "# def plotsave(history):\n",
        "#     # summarize history for loss\n",
        "#     plt.plot(history.history['loss'])\n",
        "#     plt.plot(history.history['val_loss'])\n",
        "#     plt.title('model loss')\n",
        "#     plt.ylabel('loss')\n",
        "#     plt.xlabel('epoch')\n",
        "#     plt.legend(['train', 'validaton'], loc='upper left')\n",
        "#     plt.savefig('histryofloss.pdf', bbox_inches='tight')\n",
        "#     pass"
      ],
      "execution_count": null,
      "outputs": []
    },
    {
      "cell_type": "code",
      "metadata": {
        "id": "MGKfoS58lj0U"
      },
      "source": [
        "# dir_ds_imf2 = \"/content/gdrive/MyDrive/BRAC/Thesis/Thesis(BRACU)/Pre-Thesis 2/Google Colab/t_05-CNN_RNN/_ds/DS_ALL_DE_IMF2.mat\""
      ],
      "execution_count": null,
      "outputs": []
    },
    {
      "cell_type": "code",
      "metadata": {
        "id": "N6F5qh8flj21"
      },
      "source": [
        "# data = loadmat(dir_ds_imf2) # loading the data into dictionary format\n",
        "# locals().update(data)"
      ],
      "execution_count": null,
      "outputs": []
    },
    {
      "cell_type": "code",
      "metadata": {
        "id": "xD3KD1xJnGJa"
      },
      "source": [
        "# signalData = totalSignalDE_IMF2\n",
        "# U_L = totalLabel_IMF2\n",
        "# T_L = totalLabel_IMF2\n",
        "\n",
        "# # Normalize the data\n",
        "# signalData = signalData / 255.0\n",
        "\n",
        "# signalData = np.reshape(signalData,(len(signalData),32,len(np.transpose(signalData)),1))\n",
        "\n",
        "# label_encoder  = LabelBinarizer()\n",
        "# U_L  = label_encoder.fit_transform(U_L)\n",
        "# T_L  = label_encoder.fit_transform(T_L)"
      ],
      "execution_count": null,
      "outputs": []
    },
    {
      "cell_type": "code",
      "metadata": {
        "id": "qT_mS34enGPR"
      },
      "source": [
        "# random_seed = 2\n",
        "# epochs = 10 #<<100\n",
        "# batch_size = 32 # <<\n",
        "\n",
        "# 'DATA SPLITING'\n",
        "# X_train, X_val, Y_train, Y_val = train_test_split(signalData, T_L, test_size = 0.3, random_state=random_seed)"
      ],
      "execution_count": null,
      "outputs": []
    },
    {
      "cell_type": "code",
      "metadata": {
        "id": "FWVdkfIrORwF"
      },
      "source": [
        "# TRAIN_PATH = \"/content/drive/MyDrive/Covid19 Detection/Covid Dataset 7/Train\"\n",
        "# VAL_PATH = \"/content/drive/MyDrive/Covid19 Detection/Covid Dataset 7/Validation\"\n",
        "\n",
        "# test_dir = \"/content/drive/MyDrive/Covid19 Detection/Covid Dataset 6/Test\" \n",
        "# train_dir = \"/content/drive/MyDrive/Covid19 Detection/Covid Dataset 6/Validation\"\n",
        "# val_dir = \"/content/drive/MyDrive/Covid19 Detection/Covid Dataset 7/Validation\""
      ],
      "execution_count": null,
      "outputs": []
    },
    {
      "cell_type": "code",
      "metadata": {
        "id": "RuK16Gj8OUk1"
      },
      "source": [
        "import numpy as np\n",
        "import matplotlib.pyplot as plt\n",
        "import keras\n",
        "from keras.layers import *\n",
        "from keras.models import * \n",
        "from keras.preprocessing import image\n"
      ],
      "execution_count": null,
      "outputs": []
    },
    {
      "cell_type": "code",
      "metadata": {
        "id": "o0gxAFzrOXsw"
      },
      "source": [
        "# Train from scratch\n",
        "train_datagen = image.ImageDataGenerator(\n",
        "    rescale = 1./255,\n",
        "    shear_range = 0.2,\n",
        "    zoom_range = 0.2,\n",
        "    horizontal_flip = True,\n",
        ")\n",
        "\n",
        "test_datagen = image.ImageDataGenerator(rescale=1./255)"
      ],
      "execution_count": null,
      "outputs": []
    },
    {
      "cell_type": "code",
      "metadata": {
        "colab": {
          "base_uri": "https://localhost:8080/"
        },
        "id": "GkHR_j8LOY52",
        "outputId": "dbb3bf07-d5bc-4adc-d901-bfed71ccd8c7"
      },
      "source": [
        "batch_size = 32\n",
        "\n",
        "train_generator = train_datagen.flow_from_directory(\n",
        "    '/content/drive/MyDrive/Covid 19 Detection/Covid dataset 8/Gray images/For Load/Train',\n",
        "    target_size = (224,224),\n",
        "    batch_size = batch_size,\n",
        "    class_mode = 'binary')\n",
        "\n",
        "validation_generator = test_datagen.flow_from_directory(\n",
        "    '/content/drive/MyDrive/Covid 19 Detection/Covid dataset 8/Gray images/For Load/Validation',\n",
        "    target_size = (224,224),\n",
        "    batch_size = batch_size,\n",
        "    class_mode = 'binary')"
      ],
      "execution_count": null,
      "outputs": [
        {
          "output_type": "stream",
          "text": [
            "Found 382 images belonging to 2 classes.\n",
            "Found 381 images belonging to 2 classes.\n"
          ],
          "name": "stdout"
        }
      ]
    },
    {
      "cell_type": "code",
      "metadata": {
        "colab": {
          "base_uri": "https://localhost:8080/"
        },
        "id": "ijJrqt9LnGZH",
        "outputId": "e976fd79-6fd9-4945-b775-35f0ad4af170"
      },
      "source": [
        "dir_loadFrom = \"/content/drive/MyDrive/Covid 19 Detection/Covid 19 implementation/saved model\"\n",
        "NewModel = keras.models.load_model(dir_loadFrom)\n",
        "\n",
        "NewModel.trainable = False  # Freeze the outer model\n",
        "assert NewModel.trainable == False  # All layers in `model` are now frozen\n",
        "assert NewModel.layers[0].trainable == False  # `trainable` is propagated recursively\n",
        "\n",
        "NewModel.summary()"
      ],
      "execution_count": null,
      "outputs": [
        {
          "output_type": "stream",
          "text": [
            "Model: \"sequential\"\n",
            "_________________________________________________________________\n",
            "Layer (type)                 Output Shape              Param #   \n",
            "=================================================================\n",
            "conv2d (Conv2D)              (None, 222, 222, 32)      896       \n",
            "_________________________________________________________________\n",
            "conv2d_1 (Conv2D)            (None, 220, 220, 64)      18496     \n",
            "_________________________________________________________________\n",
            "max_pooling2d (MaxPooling2D) (None, 110, 110, 64)      0         \n",
            "_________________________________________________________________\n",
            "dropout (Dropout)            (None, 110, 110, 64)      0         \n",
            "_________________________________________________________________\n",
            "conv2d_2 (Conv2D)            (None, 108, 108, 64)      36928     \n",
            "_________________________________________________________________\n",
            "max_pooling2d_1 (MaxPooling2 (None, 54, 54, 64)        0         \n",
            "_________________________________________________________________\n",
            "dropout_1 (Dropout)          (None, 54, 54, 64)        0         \n",
            "_________________________________________________________________\n",
            "conv2d_3 (Conv2D)            (None, 52, 52, 128)       73856     \n",
            "_________________________________________________________________\n",
            "max_pooling2d_2 (MaxPooling2 (None, 26, 26, 128)       0         \n",
            "_________________________________________________________________\n",
            "dropout_2 (Dropout)          (None, 26, 26, 128)       0         \n",
            "_________________________________________________________________\n",
            "conv2d_4 (Conv2D)            (None, 24, 24, 256)       295168    \n",
            "_________________________________________________________________\n",
            "max_pooling2d_3 (MaxPooling2 (None, 12, 12, 256)       0         \n",
            "_________________________________________________________________\n",
            "dropout_3 (Dropout)          (None, 12, 12, 256)       0         \n",
            "_________________________________________________________________\n",
            "flatten (Flatten)            (None, 36864)             0         \n",
            "_________________________________________________________________\n",
            "dense (Dense)                (None, 64)                2359360   \n",
            "_________________________________________________________________\n",
            "dropout_4 (Dropout)          (None, 64)                0         \n",
            "_________________________________________________________________\n",
            "dense_1 (Dense)              (None, 1)                 65        \n",
            "=================================================================\n",
            "Total params: 2,784,769\n",
            "Trainable params: 0\n",
            "Non-trainable params: 2,784,769\n",
            "_________________________________________________________________\n"
          ],
          "name": "stdout"
        }
      ]
    },
    {
      "cell_type": "code",
      "metadata": {
        "colab": {
          "base_uri": "https://localhost:8080/"
        },
        "id": "qxFG6rjaOmr2",
        "outputId": "cc98e78d-2fa7-4834-b58d-d0e549a00d04"
      },
      "source": [
        "train_generator.class_indices"
      ],
      "execution_count": null,
      "outputs": [
        {
          "output_type": "execute_result",
          "data": {
            "text/plain": [
              "{'COVID': 0, 'NORMAL': 1}"
            ]
          },
          "metadata": {
            "tags": []
          },
          "execution_count": 17
        }
      ]
    },
    {
      "cell_type": "code",
      "metadata": {
        "colab": {
          "base_uri": "https://localhost:8080/"
        },
        "id": "bmjk0C9qnZZZ",
        "outputId": "68150a9a-8367-4b35-aecc-8f64076ea7fe"
      },
      "source": [
        "epochs = 10\n",
        "# steps_per_epoch = 10\n",
        "steps_per_epoch = train_generator.n / batch_size\n",
        "# steps_val = generator_val.n / batch_size\n",
        "steps_test = validation_generator.n / batch_size\n",
        "\n",
        "hist = NewModel.fit_generator(\n",
        "    train_generator,\n",
        "    steps_per_epoch=steps_per_epoch,\n",
        "    epochs = 10,\n",
        "    validation_data = validation_generator,\n",
        "    validation_steps=steps_test)\n"
      ],
      "execution_count": null,
      "outputs": [
        {
          "output_type": "stream",
          "text": [
            "/usr/local/lib/python3.7/dist-packages/tensorflow/python/keras/engine/training.py:1844: UserWarning: `Model.fit_generator` is deprecated and will be removed in a future version. Please use `Model.fit`, which supports generators.\n",
            "  warnings.warn('`Model.fit_generator` is deprecated and '\n"
          ],
          "name": "stderr"
        },
        {
          "output_type": "stream",
          "text": [
            "Epoch 1/10\n",
            "11/11 [==============================] - 448s 38s/step - loss: 0.0122 - accuracy: 0.9948 - val_loss: 0.0828 - val_accuracy: 0.9895\n",
            "Epoch 2/10\n",
            "11/11 [==============================] - 131s 11s/step - loss: 0.0552 - accuracy: 0.9921 - val_loss: 0.1042 - val_accuracy: 0.9921\n",
            "Epoch 3/10\n",
            "11/11 [==============================] - 129s 11s/step - loss: 0.0193 - accuracy: 0.9921 - val_loss: 0.1230 - val_accuracy: 0.9843\n",
            "Epoch 4/10\n",
            "11/11 [==============================] - 129s 11s/step - loss: 0.0477 - accuracy: 0.9895 - val_loss: 0.1356 - val_accuracy: 0.9843\n",
            "Epoch 5/10\n",
            "11/11 [==============================] - 129s 11s/step - loss: 0.0720 - accuracy: 0.9817 - val_loss: 0.0880 - val_accuracy: 0.9843\n",
            "Epoch 6/10\n",
            "11/11 [==============================] - 140s 12s/step - loss: 0.0458 - accuracy: 0.9869 - val_loss: 0.0715 - val_accuracy: 0.9790\n",
            "Epoch 7/10\n",
            "11/11 [==============================] - 130s 11s/step - loss: 0.0260 - accuracy: 0.9921 - val_loss: 0.0169 - val_accuracy: 0.9921\n",
            "Epoch 8/10\n",
            "11/11 [==============================] - 129s 11s/step - loss: 0.0107 - accuracy: 0.9948 - val_loss: 0.0160 - val_accuracy: 0.9948\n",
            "Epoch 9/10\n",
            "11/11 [==============================] - 130s 11s/step - loss: 0.0412 - accuracy: 0.9921 - val_loss: 0.0178 - val_accuracy: 0.9948\n",
            "Epoch 10/10\n",
            "11/11 [==============================] - 139s 12s/step - loss: 0.0092 - accuracy: 0.9974 - val_loss: 0.0478 - val_accuracy: 0.9895\n"
          ],
          "name": "stdout"
        }
      ]
    },
    {
      "cell_type": "code",
      "metadata": {
        "id": "0UZvCtHQnZhR"
      },
      "source": [
        "# plotsave(history)"
      ],
      "execution_count": null,
      "outputs": []
    },
    {
      "cell_type": "code",
      "metadata": {
        "id": "yJ8t6FdQnZje"
      },
      "source": [
        "# ##################################### TEST 1  \n",
        "# # Predict the values from the  dataset\n",
        "# Y_pred = NewModel.predict(signalData)\n",
        "# # Convert predictions classes to one hot vectors \n",
        "# Y_pred_classes = np.argmax(Y_pred,axis = 1) \n",
        "# # Convert validation observations to one hot vectors\n",
        "# Y_true = np.argmax(U_L,axis = 1) \n",
        "# # compute the confusion matrix\n",
        "# confusion_mtx = confusion_matrix(Y_true, Y_pred_classes) \n",
        "# # plot the confusion matrix\n",
        "# print(confusion_mtx)\n",
        "# target_names = ['normal', 'ball', 'inner','outer6']\n",
        "# # Argmax function is deconverting from hot encoding to simple one\n",
        "# print (classification_report(Y_pred_classes,Y_true, target_names = target_names))\n"
      ],
      "execution_count": null,
      "outputs": []
    }
  ]
}